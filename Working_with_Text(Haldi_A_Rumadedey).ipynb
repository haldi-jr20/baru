{
  "cells": [
    {
      "cell_type": "code",
      "source": [
        "from google.colab import drive\n",
        "drive.mount('/content/drive')"
      ],
      "metadata": {
        "colab": {
          "base_uri": "https://localhost:8080/"
        },
        "id": "rSRf7aa7h6TG",
        "outputId": "5ddf4862-8293-427e-c166-8dd09cca2285"
      },
      "execution_count": 223,
      "outputs": [
        {
          "output_type": "stream",
          "name": "stdout",
          "text": [
            "Drive already mounted at /content/drive; to attempt to forcibly remount, call drive.mount(\"/content/drive\", force_remount=True).\n"
          ]
        }
      ]
    },
    {
      "cell_type": "code",
      "execution_count": 224,
      "metadata": {
        "colab": {
          "base_uri": "https://localhost:8080/"
        },
        "id": "w181u7UYnMIs",
        "outputId": "9de3dca7-a335-4bc5-d9aa-73cf97027718"
      },
      "outputs": [
        {
          "output_type": "execute_result",
          "data": {
            "text/plain": [
              "243"
            ]
          },
          "metadata": {},
          "execution_count": 224
        }
      ],
      "source": [
        "text1 = \"Natural language processing (NLP) enables computers and intelligent systems to analyze, interpret, and understand human language in both written and spoken forms, allowing for more natural and effective interactions between humans and machines\"\n",
        "\n",
        "len(text1) # The length of text1"
      ]
    },
    {
      "cell_type": "code",
      "execution_count": 225,
      "metadata": {
        "colab": {
          "base_uri": "https://localhost:8080/"
        },
        "id": "RwwFOa5unMIu",
        "outputId": "7b116928-9407-4d90-9482-f2b81a94a68d"
      },
      "outputs": [
        {
          "output_type": "execute_result",
          "data": {
            "text/plain": [
              "33"
            ]
          },
          "metadata": {},
          "execution_count": 225
        }
      ],
      "source": [
        "text2 = text1.split(' ') # Return a list of the words in text2, separating by ' '.\n",
        "\n",
        "len(text2)"
      ]
    },
    {
      "cell_type": "code",
      "execution_count": 226,
      "metadata": {
        "colab": {
          "base_uri": "https://localhost:8080/"
        },
        "id": "axuIN0IBnMIv",
        "outputId": "4d9e80a0-f97c-4857-8ff1-669387bcdda7"
      },
      "outputs": [
        {
          "output_type": "execute_result",
          "data": {
            "text/plain": [
              "['Natural',\n",
              " 'language',\n",
              " 'processing',\n",
              " '(NLP)',\n",
              " 'enables',\n",
              " 'computers',\n",
              " 'and',\n",
              " 'intelligent',\n",
              " 'systems',\n",
              " 'to',\n",
              " 'analyze,',\n",
              " 'interpret,',\n",
              " 'and',\n",
              " 'understand',\n",
              " 'human',\n",
              " 'language',\n",
              " 'in',\n",
              " 'both',\n",
              " 'written',\n",
              " 'and',\n",
              " 'spoken',\n",
              " 'forms,',\n",
              " 'allowing',\n",
              " 'for',\n",
              " 'more',\n",
              " 'natural',\n",
              " 'and',\n",
              " 'effective',\n",
              " 'interactions',\n",
              " 'between',\n",
              " 'humans',\n",
              " 'and',\n",
              " 'machines']"
            ]
          },
          "metadata": {},
          "execution_count": 226
        }
      ],
      "source": [
        "text2"
      ]
    },
    {
      "cell_type": "code",
      "execution_count": 227,
      "metadata": {
        "colab": {
          "base_uri": "https://localhost:8080/"
        },
        "id": "_GR4WhYanMIv",
        "outputId": "dada46c3-993a-4db4-fba8-2884c798f00d"
      },
      "outputs": [
        {
          "output_type": "execute_result",
          "data": {
            "text/plain": [
              "['Natural',\n",
              " 'language',\n",
              " 'processing',\n",
              " '(NLP)',\n",
              " 'enables',\n",
              " 'computers',\n",
              " 'intelligent',\n",
              " 'systems',\n",
              " 'analyze,',\n",
              " 'interpret,',\n",
              " 'understand',\n",
              " 'human',\n",
              " 'language',\n",
              " 'both',\n",
              " 'written',\n",
              " 'spoken',\n",
              " 'forms,',\n",
              " 'allowing',\n",
              " 'more',\n",
              " 'natural',\n",
              " 'effective',\n",
              " 'interactions',\n",
              " 'between',\n",
              " 'humans',\n",
              " 'machines']"
            ]
          },
          "metadata": {},
          "execution_count": 227
        }
      ],
      "source": [
        "# List comprehension\n",
        "[w for w in text2 if len(w) > 3] # Words that are greater than 3 letters long in text2"
      ]
    },
    {
      "cell_type": "code",
      "execution_count": 228,
      "metadata": {
        "colab": {
          "base_uri": "https://localhost:8080/"
        },
        "id": "ORoyeEdhnMIw",
        "outputId": "bd91aaa1-9600-4720-a374-2b8b3c448ff0"
      },
      "outputs": [
        {
          "output_type": "execute_result",
          "data": {
            "text/plain": [
              "['Natural']"
            ]
          },
          "metadata": {},
          "execution_count": 228
        }
      ],
      "source": [
        "[w for w in text2 if w.istitle()] # Capitalized words in text2"
      ]
    },
    {
      "cell_type": "code",
      "execution_count": 229,
      "metadata": {
        "colab": {
          "base_uri": "https://localhost:8080/"
        },
        "id": "lC6kHACanMIw",
        "outputId": "1097d398-ed01-479a-e6de-b88585c1a485"
      },
      "outputs": [
        {
          "output_type": "execute_result",
          "data": {
            "text/plain": [
              "['enables', 'computers', 'systems', 'interactions', 'humans', 'machines']"
            ]
          },
          "metadata": {},
          "execution_count": 229
        }
      ],
      "source": [
        "[w for w in text2 if w.endswith('s')] # Words in text2 that end in 's'"
      ]
    },
    {
      "cell_type": "code",
      "execution_count": 230,
      "metadata": {
        "colab": {
          "base_uri": "https://localhost:8080/"
        },
        "id": "6gB-Ksg3nMIw",
        "outputId": "9c22823e-cbec-4293-dcf2-df1d14f82d71"
      },
      "outputs": [
        {
          "output_type": "execute_result",
          "data": {
            "text/plain": [
              "3"
            ]
          },
          "metadata": {},
          "execution_count": 230
        }
      ],
      "source": [
        "# find unique words using set()\n",
        "text3 = 'AI changes everything'\n",
        "text4 = text3.split(' ')\n",
        "\n",
        "len(text4)"
      ]
    },
    {
      "cell_type": "code",
      "execution_count": 231,
      "metadata": {
        "colab": {
          "base_uri": "https://localhost:8080/"
        },
        "id": "1lict66OnMIw",
        "outputId": "fea363f0-b0fa-4334-9eb7-5e1bc503c003"
      },
      "outputs": [
        {
          "output_type": "execute_result",
          "data": {
            "text/plain": [
              "3"
            ]
          },
          "metadata": {},
          "execution_count": 231
        }
      ],
      "source": [
        "len(set(text4))"
      ]
    },
    {
      "cell_type": "code",
      "execution_count": 232,
      "metadata": {
        "colab": {
          "base_uri": "https://localhost:8080/"
        },
        "id": "bN8u_OHNnMIw",
        "outputId": "7859c5c2-d43b-48d3-ad99-bbb89b111ac6"
      },
      "outputs": [
        {
          "output_type": "execute_result",
          "data": {
            "text/plain": [
              "{'AI', 'changes', 'everything'}"
            ]
          },
          "metadata": {},
          "execution_count": 232
        }
      ],
      "source": [
        "set(text4)"
      ]
    },
    {
      "cell_type": "code",
      "execution_count": 233,
      "metadata": {
        "colab": {
          "base_uri": "https://localhost:8080/"
        },
        "id": "-5bpSto3nMIx",
        "outputId": "98f9837b-6279-4985-8157-676af38067f9"
      },
      "outputs": [
        {
          "output_type": "execute_result",
          "data": {
            "text/plain": [
              "3"
            ]
          },
          "metadata": {},
          "execution_count": 233
        }
      ],
      "source": [
        "len(set([w.lower() for w in text4])) # .lower converts the string to lowercase."
      ]
    },
    {
      "cell_type": "code",
      "execution_count": 234,
      "metadata": {
        "colab": {
          "base_uri": "https://localhost:8080/"
        },
        "id": "yjsH6FaUnMIx",
        "outputId": "a1e7d671-dde3-44a6-c7b7-c92f282db756"
      },
      "outputs": [
        {
          "output_type": "execute_result",
          "data": {
            "text/plain": [
              "{'ai', 'changes', 'everything'}"
            ]
          },
          "metadata": {},
          "execution_count": 234
        }
      ],
      "source": [
        "set([w.lower() for w in text4])"
      ]
    },
    {
      "cell_type": "code",
      "execution_count": 235,
      "metadata": {
        "colab": {
          "base_uri": "https://localhost:8080/"
        },
        "id": "k-97oF0snMIx",
        "outputId": "0881a4c8-660c-4f67-b58c-339bddb67fdb"
      },
      "outputs": [
        {
          "output_type": "execute_result",
          "data": {
            "text/plain": [
              "['Artificial',\n",
              " 'intelligence',\n",
              " '(AI)',\n",
              " 'refers',\n",
              " 'to',\n",
              " 'the',\n",
              " 'simulation',\n",
              " 'of',\n",
              " 'human',\n",
              " 'intelligence',\n",
              " 'in',\n",
              " 'machines',\n",
              " 'that',\n",
              " 'are',\n",
              " 'programmed',\n",
              " 'to',\n",
              " 'think',\n",
              " 'like',\n",
              " 'humans',\n",
              " 'and',\n",
              " 'mimic',\n",
              " 'their',\n",
              " 'actions.',\n",
              " '#AIConcept',\n",
              " '@TechTopic',\n",
              " 'bit.ly/AIexplained']"
            ]
          },
          "metadata": {},
          "execution_count": 235
        }
      ],
      "source": [
        "# Processing free-text\n",
        "text5 = \"Artificial intelligence (AI) refers to the simulation of human intelligence in machines that are programmed to think like humans and mimic their actions. #AIConcept @TechTopic bit.ly/AIexplained\"\n",
        "text6 = text5.split(' ')\n",
        "\n",
        "text6"
      ]
    },
    {
      "cell_type": "code",
      "execution_count": 236,
      "metadata": {
        "colab": {
          "base_uri": "https://localhost:8080/"
        },
        "id": "SaG8tWI3nMIy",
        "outputId": "f418fb14-0405-40d7-8060-836814a2ee91"
      },
      "outputs": [
        {
          "output_type": "execute_result",
          "data": {
            "text/plain": [
              "['#AIConcept']"
            ]
          },
          "metadata": {},
          "execution_count": 236
        }
      ],
      "source": [
        "# finding hashtags\n",
        "[w for w in text6 if w.startswith('#')]"
      ]
    },
    {
      "cell_type": "code",
      "execution_count": 237,
      "metadata": {
        "colab": {
          "base_uri": "https://localhost:8080/"
        },
        "id": "_KaViPaWnMIy",
        "outputId": "22b7b054-f68d-4c6a-dc3c-1039e4a4e3bf"
      },
      "outputs": [
        {
          "output_type": "execute_result",
          "data": {
            "text/plain": [
              "['@TechTopic']"
            ]
          },
          "metadata": {},
          "execution_count": 237
        }
      ],
      "source": [
        "# finding callouts\n",
        "[w for w in text6 if w.startswith('@')]"
      ]
    },
    {
      "cell_type": "code",
      "execution_count": 238,
      "metadata": {
        "collapsed": true,
        "id": "66zfEW9NnMIy"
      },
      "outputs": [],
      "source": [
        "text7 = '\"AI is the future of innovation\" #TechTalk @AI_Conf http://bit.ly/ai2025'\n",
        "text8 = text7.split(' ')"
      ]
    },
    {
      "cell_type": "code",
      "execution_count": 239,
      "metadata": {
        "colab": {
          "base_uri": "https://localhost:8080/"
        },
        "id": "RmekdobKnMIy",
        "outputId": "17a6302b-4e17-4f8e-e1db-d142dd22d058"
      },
      "outputs": [
        {
          "output_type": "execute_result",
          "data": {
            "text/plain": [
              "['@AI_Conf']"
            ]
          },
          "metadata": {},
          "execution_count": 239
        }
      ],
      "source": [
        "import re # import re - a module that provides support for regular expressions\n",
        "\n",
        "[w for w in text8 if re.search('@[A-Za-z0-9_]+', w)]"
      ]
    },
    {
      "cell_type": "code",
      "source": [
        "#untuk menghitung 10 kata paling sering muncul\n",
        "word_freq = Counter(text2)\n",
        "common_words = word_freq.most_common(10)\n",
        "print(\"10 Kata Paling Sering Muncul:\")\n",
        "for word, count in common_words:\n",
        "    print(f\"{word}: {count}\")"
      ],
      "metadata": {
        "colab": {
          "base_uri": "https://localhost:8080/"
        },
        "id": "viqwMEMNx7uG",
        "outputId": "42a06801-1b6c-4e02-b793-c9bf3793e356"
      },
      "execution_count": 240,
      "outputs": [
        {
          "output_type": "stream",
          "name": "stdout",
          "text": [
            "10 Kata Paling Sering Muncul:\n",
            "and: 5\n",
            "language: 2\n",
            "Natural: 1\n",
            "processing: 1\n",
            "(NLP): 1\n",
            "enables: 1\n",
            "computers: 1\n",
            "intelligent: 1\n",
            "systems: 1\n",
            "to: 1\n"
          ]
        }
      ]
    },
    {
      "cell_type": "code",
      "source": [
        "#untuk visualisasi kata yang paling sering muncul menggunakan bar chart\n",
        "\n",
        "from collections import Counter\n",
        "import matplotlib.pyplot as plt\n",
        "\n",
        "labels, counts = zip(*common_words)\n",
        "plt.bar(labels, counts, color='red')\n",
        "plt.title(\"10 Kata Paling Sering Muncul\")\n",
        "plt.xticks(rotation=45)\n",
        "plt.tight_layout()\n",
        "plt.show()"
      ],
      "metadata": {
        "colab": {
          "base_uri": "https://localhost:8080/",
          "height": 487
        },
        "id": "p8TsrSpAs-9Q",
        "outputId": "e6787052-071b-4c17-977f-4ace664d7fb1"
      },
      "execution_count": 241,
      "outputs": [
        {
          "output_type": "display_data",
          "data": {
            "text/plain": [
              "<Figure size 640x480 with 1 Axes>"
            ],
            "image/png": "[encoded data removed]"
          },
          "metadata": {}
        }
      ]
    }
  ],
  "metadata": {
    "kernelspec": {
      "display_name": "Python 3",
      "language": "python",
      "name": "python3"
    },
    "language_info": {
      "codemirror_mode": {
        "name": "ipython",
        "version": 3
      },
      "file_extension": ".py",
      "mimetype": "text/x-python",
      "name": "python",
      "nbconvert_exporter": "python",
      "pygments_lexer": "ipython3",
      "version": "3.6.1"
    },
    "colab": {
      "provenance": []
    }
  },
  "nbformat": 4,
  "nbformat_minor": 0
}